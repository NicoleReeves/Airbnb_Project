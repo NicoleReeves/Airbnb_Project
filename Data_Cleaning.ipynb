{
  "metadata": {
    "kernelspec": {
      "name": "python",
      "display_name": "Python (Pyodide)",
      "language": "python"
    },
    "language_info": {
      "codemirror_mode": {
        "name": "python",
        "version": 3
      },
      "file_extension": ".py",
      "mimetype": "text/x-python",
      "name": "python",
      "nbconvert_exporter": "python",
      "pygments_lexer": "ipython3",
      "version": "3.8"
    }
  },
  "nbformat_minor": 5,
  "nbformat": 4,
  "cells": [
    {
      "id": "06e4196c-7651-45ff-8e7d-fd6c501f1b07",
      "cell_type": "markdown",
      "source": "Intial Setup",
      "metadata": {}
    },
    {
      "id": "826b54d3-728b-4b32-a601-88052a62d5f7",
      "cell_type": "code",
      "source": "# Import libraries\nimport pandas as pd \nimport numpy as np\n\nimport matplotlib.pyplot as plt\n%pip% install seaborn\n\nfrom scipy.stats import zscore",
      "metadata": {
        "trusted": true
      },
      "outputs": [],
      "execution_count": 192
    },
    {
      "id": "9fec9b6e-3659-4a8b-a5b6-2576cbb3a148",
      "cell_type": "code",
      "source": "# Import data \nlisting_data = pd.read_csv('listings.csv')",
      "metadata": {
        "trusted": true
      },
      "outputs": [],
      "execution_count": 193
    },
    {
      "id": "bfad3ad1-c91c-46b7-bee8-1759007d5110",
      "cell_type": "code",
      "source": "#Intial Look at data \nlisting_data.head()",
      "metadata": {
        "trusted": true
      },
      "outputs": [
        {
          "execution_count": 194,
          "output_type": "execute_result",
          "data": {
            "text/plain": "       id                          listing_url       scrape_id last_scraped  \\\n0  157612  https://www.airbnb.com/rooms/157612  20250318145053   2025-03-18   \n1  283495  https://www.airbnb.com/rooms/283495  20250318145053   2025-03-18   \n2  310742  https://www.airbnb.com/rooms/310742  20250318145053   2025-03-18   \n3  332580  https://www.airbnb.com/rooms/332580  20250318145053   2025-03-18   \n4  360142  https://www.airbnb.com/rooms/360142  20250318145053   2025-03-18   \n\n        source                                 name  \\\n0  city scrape   New attic space/single & Dble room   \n1  city scrape      En-suite room in detached house   \n2  city scrape  Nice room 10 minutes walk from town   \n3  city scrape  **ELEGANT STAY** CENTRAL MANCHESTER   \n4  city scrape  Light double room with own bathroom   \n\n                                         description  \\\n0  The loft space is a small but cosy, private an...   \n1                                                NaN   \n2                                                NaN   \n3  An Elegant Stay right into the CITY CENTRE, in...   \n4  Lovely bright room at rear of house. Double be...   \n\n                               neighborhood_overview  \\\n0  There is a public park within easy walking dis...   \n1  The suburbaness of it all but 2 minutes from t...   \n2                                                NaN   \n3  You will be staying in the trendy Northern Qua...   \n4  It's a proper cosmopolitan inner city neighbou...   \n\n                                         picture_url  host_id  ...  \\\n0  https://a0.muscache.com/pictures/18150718/745a...   757016  ...   \n1  https://a0.muscache.com/pictures/78775473/2d8f...  1476718  ...   \n2  https://a0.muscache.com/pictures/3387158/a2f58...  1603652  ...   \n3  https://a0.muscache.com/pictures/52792580-e354...  1694961  ...   \n4  https://a0.muscache.com/pictures/13631809/c147...  1821587  ...   \n\n  review_scores_communication review_scores_location review_scores_value  \\\n0                        4.94                   4.68                4.89   \n1                        5.00                   4.80                5.00   \n2                        4.86                   4.81                4.65   \n3                        4.94                   4.87                4.82   \n4                        4.87                   4.52                4.73   \n\n  license instant_bookable calculated_host_listings_count  \\\n0     NaN                f                              1   \n1     NaN                f                              1   \n2     NaN                t                              1   \n3     NaN                f                              4   \n4     NaN                f                              2   \n\n  calculated_host_listings_count_entire_homes  \\\n0                                           1   \n1                                           0   \n2                                           0   \n3                                           3   \n4                                           0   \n\n  calculated_host_listings_count_private_rooms  \\\n0                                            0   \n1                                            1   \n2                                            1   \n3                                            1   \n4                                            2   \n\n  calculated_host_listings_count_shared_rooms reviews_per_month  \n0                                           0              1.02  \n1                                           0              0.08  \n2                                           0              0.41  \n3                                           0              2.25  \n4                                           0              0.31  \n\n[5 rows x 79 columns]",
            "text/html": "<div>\n<style scoped>\n    .dataframe tbody tr th:only-of-type {\n        vertical-align: middle;\n    }\n\n    .dataframe tbody tr th {\n        vertical-align: top;\n    }\n\n    .dataframe thead th {\n        text-align: right;\n    }\n</style>\n<table border=\"1\" class=\"dataframe\">\n  <thead>\n    <tr style=\"text-align: right;\">\n      <th></th>\n      <th>id</th>\n      <th>listing_url</th>\n      <th>scrape_id</th>\n      <th>last_scraped</th>\n      <th>source</th>\n      <th>name</th>\n      <th>description</th>\n      <th>neighborhood_overview</th>\n      <th>picture_url</th>\n      <th>host_id</th>\n      <th>...</th>\n      <th>review_scores_communication</th>\n      <th>review_scores_location</th>\n      <th>review_scores_value</th>\n      <th>license</th>\n      <th>instant_bookable</th>\n      <th>calculated_host_listings_count</th>\n      <th>calculated_host_listings_count_entire_homes</th>\n      <th>calculated_host_listings_count_private_rooms</th>\n      <th>calculated_host_listings_count_shared_rooms</th>\n      <th>reviews_per_month</th>\n    </tr>\n  </thead>\n  <tbody>\n    <tr>\n      <th>0</th>\n      <td>157612</td>\n      <td>https://www.airbnb.com/rooms/157612</td>\n      <td>20250318145053</td>\n      <td>2025-03-18</td>\n      <td>city scrape</td>\n      <td>New attic space/single &amp; Dble room</td>\n      <td>The loft space is a small but cosy, private an...</td>\n      <td>There is a public park within easy walking dis...</td>\n      <td>https://a0.muscache.com/pictures/18150718/745a...</td>\n      <td>757016</td>\n      <td>...</td>\n      <td>4.94</td>\n      <td>4.68</td>\n      <td>4.89</td>\n      <td>NaN</td>\n      <td>f</td>\n      <td>1</td>\n      <td>1</td>\n      <td>0</td>\n      <td>0</td>\n      <td>1.02</td>\n    </tr>\n    <tr>\n      <th>1</th>\n      <td>283495</td>\n      <td>https://www.airbnb.com/rooms/283495</td>\n      <td>20250318145053</td>\n      <td>2025-03-18</td>\n      <td>city scrape</td>\n      <td>En-suite room in detached house</td>\n      <td>NaN</td>\n      <td>The suburbaness of it all but 2 minutes from t...</td>\n      <td>https://a0.muscache.com/pictures/78775473/2d8f...</td>\n      <td>1476718</td>\n      <td>...</td>\n      <td>5.00</td>\n      <td>4.80</td>\n      <td>5.00</td>\n      <td>NaN</td>\n      <td>f</td>\n      <td>1</td>\n      <td>0</td>\n      <td>1</td>\n      <td>0</td>\n      <td>0.08</td>\n    </tr>\n    <tr>\n      <th>2</th>\n      <td>310742</td>\n      <td>https://www.airbnb.com/rooms/310742</td>\n      <td>20250318145053</td>\n      <td>2025-03-18</td>\n      <td>city scrape</td>\n      <td>Nice room 10 minutes walk from town</td>\n      <td>NaN</td>\n      <td>NaN</td>\n      <td>https://a0.muscache.com/pictures/3387158/a2f58...</td>\n      <td>1603652</td>\n      <td>...</td>\n      <td>4.86</td>\n      <td>4.81</td>\n      <td>4.65</td>\n      <td>NaN</td>\n      <td>t</td>\n      <td>1</td>\n      <td>0</td>\n      <td>1</td>\n      <td>0</td>\n      <td>0.41</td>\n    </tr>\n    <tr>\n      <th>3</th>\n      <td>332580</td>\n      <td>https://www.airbnb.com/rooms/332580</td>\n      <td>20250318145053</td>\n      <td>2025-03-18</td>\n      <td>city scrape</td>\n      <td>**ELEGANT STAY** CENTRAL MANCHESTER</td>\n      <td>An Elegant Stay right into the CITY CENTRE, in...</td>\n      <td>You will be staying in the trendy Northern Qua...</td>\n      <td>https://a0.muscache.com/pictures/52792580-e354...</td>\n      <td>1694961</td>\n      <td>...</td>\n      <td>4.94</td>\n      <td>4.87</td>\n      <td>4.82</td>\n      <td>NaN</td>\n      <td>f</td>\n      <td>4</td>\n      <td>3</td>\n      <td>1</td>\n      <td>0</td>\n      <td>2.25</td>\n    </tr>\n    <tr>\n      <th>4</th>\n      <td>360142</td>\n      <td>https://www.airbnb.com/rooms/360142</td>\n      <td>20250318145053</td>\n      <td>2025-03-18</td>\n      <td>city scrape</td>\n      <td>Light double room with own bathroom</td>\n      <td>Lovely bright room at rear of house. Double be...</td>\n      <td>It's a proper cosmopolitan inner city neighbou...</td>\n      <td>https://a0.muscache.com/pictures/13631809/c147...</td>\n      <td>1821587</td>\n      <td>...</td>\n      <td>4.87</td>\n      <td>4.52</td>\n      <td>4.73</td>\n      <td>NaN</td>\n      <td>f</td>\n      <td>2</td>\n      <td>0</td>\n      <td>2</td>\n      <td>0</td>\n      <td>0.31</td>\n    </tr>\n  </tbody>\n</table>\n<p>5 rows × 79 columns</p>\n</div>"
          },
          "metadata": {}
        }
      ],
      "execution_count": 194
    },
    {
      "id": "2a80e01c-7226-4280-8ae6-c4eb23574c35",
      "cell_type": "markdown",
      "source": "Cleaning the Data",
      "metadata": {}
    },
    {
      "id": "7ff1c73b-7e36-481b-9f90-26de98223b8c",
      "cell_type": "code",
      "source": "",
      "metadata": {
        "trusted": true
      },
      "outputs": [],
      "execution_count": null
    },
    {
      "id": "e7c6514e-b207-4dc4-80fc-18fee0bbd92c",
      "cell_type": "code",
      "source": "# Delete useless columns \ncolumns_to_keep = [\n    'name',\n    'description',\n    'picture_url',\n    'host_since',\n    'host_response_time',\n    'host_acceptance_rate',\n    'host_is_superhost',\n    'host_total_listings_count',\n    'host_identity_verified',\n    'neighbourhood_cleansed',\n    'neighbourhood_group_cleansed',\n    'latitude',\n    'longitude',\n    'property_type',\n    'room_type',\n    'accommodates',\n    'bathrooms', \n    'bedrooms',\n    'amenities',\n    'price'\n    # Add more column names here as needed\n]\n\nlisting_data = listing_data[columns_to_keep]",
      "metadata": {
        "trusted": true
      },
      "outputs": [],
      "execution_count": 195
    },
    {
      "id": "52e53c1e-279f-484d-9c80-b15f774c928d",
      "cell_type": "code",
      "source": "# Calculate the number of missing values for each column\nmissing_values_count = listing_data.isnull().sum()\ntotal_rows = len(listing_data)\n\nmissing_values_percentage = (missing_values_count / total_rows) * 100\ncolumns_with_missing_percentage = missing_values_percentage[missing_values_percentage > 0]\ncolumns_with_missing_percentage = columns_with_missing_percentage.sort_values(ascending=False)\n\nprint(\"Columns with missing data and their percentage:\")\nprint(columns_with_missing_percentage.apply(lambda x: f\"{x:.2f}%\"))\n",
      "metadata": {
        "trusted": true
      },
      "outputs": [
        {
          "name": "stdout",
          "output_type": "stream",
          "text": "Columns with missing data and their percentage:\nhost_response_time           12.98%\nbathrooms                    12.00%\nprice                        11.97%\nhost_acceptance_rate          5.59%\nbedrooms                      3.09%\nhost_is_superhost             2.35%\ndescription                   2.32%\nhost_since                    0.03%\nhost_total_listings_count     0.03%\nhost_identity_verified        0.03%\ndtype: object\n"
        }
      ],
      "execution_count": 196
    },
    {
      "id": "493d39b4-cfd1-4d21-a75d-3ccf4d1e7621",
      "cell_type": "code",
      "source": "# Delete rows where there is missing data\nlisting_data_cleaned = listing_data.dropna(subset=['host_response_time', 'bathrooms', 'price', 'host_acceptance_rate', 'bedrooms', 'host_is_superhost', 'description', 'host_since', 'host_total_listings_count', 'host_identity_verified'])",
      "metadata": {
        "trusted": true
      },
      "outputs": [],
      "execution_count": 197
    },
    {
      "id": "158873ba-b714-44dc-bb57-babd612eda9d",
      "cell_type": "markdown",
      "source": "Cleaning the Price Column",
      "metadata": {}
    },
    {
      "id": "c1a5f12d-b011-4101-a4ff-b6185cc7165f",
      "cell_type": "code",
      "source": "# Cleaning Price Column\nlisting_data['price_cleaned'] = listing_data['price'].astype(str)\nlisting_data['price_cleaned'] = listing_data['price_cleaned'].str.replace(r'[^\\d.]', '', regex=True)\n\nlisting_data['price_cleaned'] = listing_data['price_cleaned'].replace('', np.nan)\nlisting_data['price_cleaned'] = listing_data['price_cleaned'].replace('.', np.nan)\n\nlisting_data['price_cleaned'] = pd.to_numeric(listing_data['price_cleaned'], errors='coerce')",
      "metadata": {
        "trusted": true
      },
      "outputs": [],
      "execution_count": 198
    },
    {
      "id": "6580005e-2c05-4a16-8cb2-573079e92a1e",
      "cell_type": "markdown",
      "source": "Name, Description",
      "metadata": {}
    },
    {
      "id": "95b6dade-e074-4fbc-88c8-7462d8deb674",
      "cell_type": "code",
      "source": "",
      "metadata": {
        "trusted": true
      },
      "outputs": [],
      "execution_count": null
    },
    {
      "id": "509ebc76-ed71-4e97-bdf5-24b38fb225f2",
      "cell_type": "markdown",
      "source": "Picture",
      "metadata": {}
    },
    {
      "id": "54b324a9-02df-486a-984d-f5838966f42c",
      "cell_type": "code",
      "source": "",
      "metadata": {
        "trusted": true
      },
      "outputs": [],
      "execution_count": null
    },
    {
      "id": "92564435-7756-4737-b2c0-5e206b380f7f",
      "cell_type": "markdown",
      "source": "Host Since",
      "metadata": {}
    },
    {
      "id": "cbe29302-5984-487e-8b10-9be268077278",
      "cell_type": "code",
      "source": "listing_data['host_since'] = pd.to_datetime(listing_data['host_since'], errors='coerce')\nlisting_data.dropna(subset=['host_since'], inplace=True)",
      "metadata": {
        "trusted": true
      },
      "outputs": [],
      "execution_count": 199
    },
    {
      "id": "b4da4823-9da6-41be-951c-1cb4bc82d568",
      "cell_type": "code",
      "source": "# Turn into number of days \nreference_date = pd.to_datetime('2025-06-04')\nlisting_data['host_days'] = (reference_date - listing_data['host_since']).dt.days\nprint (listing_data['host_days'])",
      "metadata": {
        "trusted": true
      },
      "outputs": [
        {
          "name": "stdout",
          "output_type": "stream",
          "text": "0       5089\n1       4929\n2       4891\n3       4870\n4       4846\n        ... \n7146    1798\n7147      79\n7148     534\n7149     714\n7150     714\nName: host_days, Length: 7149, dtype: int64\n"
        }
      ],
      "execution_count": 200
    },
    {
      "id": "b2f791a0-3170-4472-8140-9f18d7ed68ac",
      "cell_type": "markdown",
      "source": "Host Response Time",
      "metadata": {}
    },
    {
      "id": "8392551e-df71-4e16-9acc-bde01736cd8d",
      "cell_type": "code",
      "source": "listing_data['host_response_time'].unique()",
      "metadata": {
        "trusted": true
      },
      "outputs": [
        {
          "execution_count": 201,
          "output_type": "execute_result",
          "data": {
            "text/plain": "array(['within a few hours', nan, 'within an hour', 'within a day',\n       'a few days or more'], dtype=object)"
          },
          "metadata": {}
        }
      ],
      "execution_count": 201
    },
    {
      "id": "e8ef3ece-4476-42e6-9fdb-6f6d6759430e",
      "cell_type": "code",
      "source": "# Encoding the variable\nresponse_time_mapping = {\n    'within a few minutes': 1,\n    'within an hour': 2,\n    'within a few hours': 3,\n    'within a day': 4,\n    np.nan: 0 \n}\n\nlisting_data['host_response_time'] = listing_data['host_response_time'].map(response_time_mapping)",
      "metadata": {
        "trusted": true
      },
      "outputs": [],
      "execution_count": 202
    },
    {
      "id": "0074eddb-aad5-404e-a991-28feceb1155e",
      "cell_type": "markdown",
      "source": "Host response rate and host acceptance rate",
      "metadata": {}
    },
    {
      "id": "a43a23b6-533f-4b97-8b6f-156734b9a4eb",
      "cell_type": "code",
      "source": "",
      "metadata": {
        "trusted": true
      },
      "outputs": [],
      "execution_count": null
    },
    {
      "id": "a44981cd-3522-466e-a1e6-2df661d276fb",
      "cell_type": "markdown",
      "source": "Host is a Superhost ",
      "metadata": {}
    },
    {
      "id": "be5175a0-20ae-4e09-a224-b92c0d65ccc3",
      "cell_type": "code",
      "source": "mapping = {'t': 1, 'f': 0}\nlisting_data['host_is_superhost'] = listing_data['host_is_superhost'].map(mapping)",
      "metadata": {
        "trusted": true
      },
      "outputs": [],
      "execution_count": 203
    },
    {
      "id": "70688293-800c-4b59-8d5c-99c7a7a2fbd5",
      "cell_type": "code",
      "source": "listing_data",
      "metadata": {
        "trusted": true
      },
      "outputs": [
        {
          "execution_count": 205,
          "output_type": "execute_result",
          "data": {
            "text/plain": "                                                  name  \\\n0                   New attic space/single & Dble room   \n1                      En-suite room in detached house   \n2                  Nice room 10 minutes walk from town   \n3                  **ELEGANT STAY** CENTRAL MANCHESTER   \n4                  Light double room with own bathroom   \n...                                                ...   \n7146                                      House Bolton   \n7147                              Kozzy 2 Bedroom Flat   \n7148  10%OFF|Month Deal|Contractor|Parking|WiFi|Sleep6   \n7149  Long Stays - Free Parking - Media City Apartment   \n7150     Long Stays - Driveway - Games Room - Sleeps 9   \n\n                                            description  \\\n0     The loft space is a small but cosy, private an...   \n1                                                   NaN   \n2                                                   NaN   \n3     An Elegant Stay right into the CITY CENTRE, in...   \n4     Lovely bright room at rear of house. Double be...   \n...                                                 ...   \n7146        Relax together in a peaceful place to stay.   \n7147  Kozzy 2-Bedroom Flat Near Piccadilly Station, ...   \n7148  🏳 𝐇𝐨𝐬𝐭 𝐀 𝐇𝐨𝐦𝐞 Short Lets & Serviced Accommodat...   \n7149  Located directly in Media City, Salford Quays,...   \n7150  Welcome to our spacious and inviting 4-bedroom...   \n\n                                            picture_url host_since  \\\n0     https://a0.muscache.com/pictures/18150718/745a... 2011-06-29   \n1     https://a0.muscache.com/pictures/78775473/2d8f... 2011-12-06   \n2     https://a0.muscache.com/pictures/3387158/a2f58... 2012-01-13   \n3     https://a0.muscache.com/pictures/52792580-e354... 2012-02-03   \n4     https://a0.muscache.com/pictures/13631809/c147... 2012-02-27   \n...                                                 ...        ...   \n7146  https://a0.muscache.com/pictures/hosting/Hosti... 2020-07-02   \n7147  https://a0.muscache.com/pictures/hosting/Hosti... 2025-03-17   \n7148  https://a0.muscache.com/pictures/hosting/Hosti... 2023-12-18   \n7149  https://a0.muscache.com/pictures/hosting/Hosti... 2023-06-21   \n7150  https://a0.muscache.com/pictures/miso/Hosting-... 2023-06-21   \n\n      host_response_time host_acceptance_rate  host_is_superhost  \\\n0                    3.0                  69%                1.0   \n1                    0.0                  NaN                0.0   \n2                    3.0                  74%                1.0   \n3                    2.0                  90%                0.0   \n4                    3.0                  71%                0.0   \n...                  ...                  ...                ...   \n7146                 2.0                  NaN                0.0   \n7147                 0.0                  NaN                0.0   \n7148                 2.0                  97%                0.0   \n7149                 2.0                  99%                0.0   \n7150                 2.0                  99%                0.0   \n\n      host_total_listings_count host_identity_verified neighbourhood_cleansed  \\\n0                           3.0                      t       Salford District   \n1                           1.0                      f      Rochdale District   \n2                           6.0                      t    Ancoats and Clayton   \n3                          12.0                      t            City Centre   \n4                           3.0                      t              Moss Side   \n...                         ...                    ...                    ...   \n7146                        3.0                      t        Bolton District   \n7147                        1.0                      f            City Centre   \n7148                        7.0                      t    Ancoats and Clayton   \n7149                       75.0                      t       Salford District   \n7150                       75.0                      t       Salford District   \n\n      ... longitude                property_type        room_type  \\\n0     ... -2.262490                  Entire loft  Entire home/apt   \n1     ... -2.218240         Private room in home     Private room   \n2     ... -2.229190  Private room in rental unit     Private room   \n3     ... -2.232849        Private room in condo     Private room   \n4     ... -2.235420    Private room in townhouse     Private room   \n...   ...       ...                          ...              ...   \n7146  ... -2.456652                  Entire home  Entire home/apt   \n7147  ... -2.232804           Entire rental unit  Entire home/apt   \n7148  ... -2.180201                  Entire home  Entire home/apt   \n7149  ... -2.281962           Entire rental unit  Entire home/apt   \n7150  ... -2.282497                  Entire home  Entire home/apt   \n\n     accommodates bathrooms  bedrooms  \\\n0               3       1.5       2.0   \n1               2       1.0       1.0   \n2               1       1.0       1.0   \n3               1       1.0       1.0   \n4               2       2.0       1.0   \n...           ...       ...       ...   \n7146            2       1.0       1.0   \n7147            5       2.0       2.0   \n7148            6       1.0       3.0   \n7149            6       2.0       2.0   \n7150            9       2.5       4.0   \n\n                                              amenities    price  \\\n0     [\"Shampoo\", \"Iron\", \"Clothing storage: closet ...   $45.00   \n1     [\"Shampoo\", \"Iron\", \"Free parking on premises\"...   $75.00   \n2     [\"Washer\", \"Kitchen\", \"Gym\", \"TV\", \"Elevator\",...   $38.00   \n3     [\"Shampoo\", \"Iron\", \"Clothing storage: closet ...   $42.00   \n4     [\"Children\\u2019s books and toys\", \"Iron\", \"Ca...   $35.00   \n...                                                 ...      ...   \n7146  [\"Washer\", \"Kitchen\", \"Free parking on premise...   $85.00   \n7147  [\"Shampoo\", \"Iron\", \"Carbon monoxide alarm\", \"...  $166.00   \n7148  [\"Washer\", \"First aid kit\", \"Kitchen\", \"TV\", \"...  $122.00   \n7149  [\"Shampoo\", \"Iron\", \"Free parking on premises\"...  $140.00   \n7150  [\"Pool table\", \"Shampoo\", \"Iron\", \"Free parkin...  $179.00   \n\n     price_cleaned host_days  \n0             45.0      5089  \n1             75.0      4929  \n2             38.0      4891  \n3             42.0      4870  \n4             35.0      4846  \n...            ...       ...  \n7146          85.0      1798  \n7147         166.0        79  \n7148         122.0       534  \n7149         140.0       714  \n7150         179.0       714  \n\n[7149 rows x 22 columns]",
            "text/html": "<div>\n<style scoped>\n    .dataframe tbody tr th:only-of-type {\n        vertical-align: middle;\n    }\n\n    .dataframe tbody tr th {\n        vertical-align: top;\n    }\n\n    .dataframe thead th {\n        text-align: right;\n    }\n</style>\n<table border=\"1\" class=\"dataframe\">\n  <thead>\n    <tr style=\"text-align: right;\">\n      <th></th>\n      <th>name</th>\n      <th>description</th>\n      <th>picture_url</th>\n      <th>host_since</th>\n      <th>host_response_time</th>\n      <th>host_acceptance_rate</th>\n      <th>host_is_superhost</th>\n      <th>host_total_listings_count</th>\n      <th>host_identity_verified</th>\n      <th>neighbourhood_cleansed</th>\n      <th>...</th>\n      <th>longitude</th>\n      <th>property_type</th>\n      <th>room_type</th>\n      <th>accommodates</th>\n      <th>bathrooms</th>\n      <th>bedrooms</th>\n      <th>amenities</th>\n      <th>price</th>\n      <th>price_cleaned</th>\n      <th>host_days</th>\n    </tr>\n  </thead>\n  <tbody>\n    <tr>\n      <th>0</th>\n      <td>New attic space/single &amp; Dble room</td>\n      <td>The loft space is a small but cosy, private an...</td>\n      <td>https://a0.muscache.com/pictures/18150718/745a...</td>\n      <td>2011-06-29</td>\n      <td>3.0</td>\n      <td>69%</td>\n      <td>1.0</td>\n      <td>3.0</td>\n      <td>t</td>\n      <td>Salford District</td>\n      <td>...</td>\n      <td>-2.262490</td>\n      <td>Entire loft</td>\n      <td>Entire home/apt</td>\n      <td>3</td>\n      <td>1.5</td>\n      <td>2.0</td>\n      <td>[\"Shampoo\", \"Iron\", \"Clothing storage: closet ...</td>\n      <td>$45.00</td>\n      <td>45.0</td>\n      <td>5089</td>\n    </tr>\n    <tr>\n      <th>1</th>\n      <td>En-suite room in detached house</td>\n      <td>NaN</td>\n      <td>https://a0.muscache.com/pictures/78775473/2d8f...</td>\n      <td>2011-12-06</td>\n      <td>0.0</td>\n      <td>NaN</td>\n      <td>0.0</td>\n      <td>1.0</td>\n      <td>f</td>\n      <td>Rochdale District</td>\n      <td>...</td>\n      <td>-2.218240</td>\n      <td>Private room in home</td>\n      <td>Private room</td>\n      <td>2</td>\n      <td>1.0</td>\n      <td>1.0</td>\n      <td>[\"Shampoo\", \"Iron\", \"Free parking on premises\"...</td>\n      <td>$75.00</td>\n      <td>75.0</td>\n      <td>4929</td>\n    </tr>\n    <tr>\n      <th>2</th>\n      <td>Nice room 10 minutes walk from town</td>\n      <td>NaN</td>\n      <td>https://a0.muscache.com/pictures/3387158/a2f58...</td>\n      <td>2012-01-13</td>\n      <td>3.0</td>\n      <td>74%</td>\n      <td>1.0</td>\n      <td>6.0</td>\n      <td>t</td>\n      <td>Ancoats and Clayton</td>\n      <td>...</td>\n      <td>-2.229190</td>\n      <td>Private room in rental unit</td>\n      <td>Private room</td>\n      <td>1</td>\n      <td>1.0</td>\n      <td>1.0</td>\n      <td>[\"Washer\", \"Kitchen\", \"Gym\", \"TV\", \"Elevator\",...</td>\n      <td>$38.00</td>\n      <td>38.0</td>\n      <td>4891</td>\n    </tr>\n    <tr>\n      <th>3</th>\n      <td>**ELEGANT STAY** CENTRAL MANCHESTER</td>\n      <td>An Elegant Stay right into the CITY CENTRE, in...</td>\n      <td>https://a0.muscache.com/pictures/52792580-e354...</td>\n      <td>2012-02-03</td>\n      <td>2.0</td>\n      <td>90%</td>\n      <td>0.0</td>\n      <td>12.0</td>\n      <td>t</td>\n      <td>City Centre</td>\n      <td>...</td>\n      <td>-2.232849</td>\n      <td>Private room in condo</td>\n      <td>Private room</td>\n      <td>1</td>\n      <td>1.0</td>\n      <td>1.0</td>\n      <td>[\"Shampoo\", \"Iron\", \"Clothing storage: closet ...</td>\n      <td>$42.00</td>\n      <td>42.0</td>\n      <td>4870</td>\n    </tr>\n    <tr>\n      <th>4</th>\n      <td>Light double room with own bathroom</td>\n      <td>Lovely bright room at rear of house. Double be...</td>\n      <td>https://a0.muscache.com/pictures/13631809/c147...</td>\n      <td>2012-02-27</td>\n      <td>3.0</td>\n      <td>71%</td>\n      <td>0.0</td>\n      <td>3.0</td>\n      <td>t</td>\n      <td>Moss Side</td>\n      <td>...</td>\n      <td>-2.235420</td>\n      <td>Private room in townhouse</td>\n      <td>Private room</td>\n      <td>2</td>\n      <td>2.0</td>\n      <td>1.0</td>\n      <td>[\"Children\\u2019s books and toys\", \"Iron\", \"Ca...</td>\n      <td>$35.00</td>\n      <td>35.0</td>\n      <td>4846</td>\n    </tr>\n    <tr>\n      <th>...</th>\n      <td>...</td>\n      <td>...</td>\n      <td>...</td>\n      <td>...</td>\n      <td>...</td>\n      <td>...</td>\n      <td>...</td>\n      <td>...</td>\n      <td>...</td>\n      <td>...</td>\n      <td>...</td>\n      <td>...</td>\n      <td>...</td>\n      <td>...</td>\n      <td>...</td>\n      <td>...</td>\n      <td>...</td>\n      <td>...</td>\n      <td>...</td>\n      <td>...</td>\n      <td>...</td>\n    </tr>\n    <tr>\n      <th>7146</th>\n      <td>House Bolton</td>\n      <td>Relax together in a peaceful place to stay.</td>\n      <td>https://a0.muscache.com/pictures/hosting/Hosti...</td>\n      <td>2020-07-02</td>\n      <td>2.0</td>\n      <td>NaN</td>\n      <td>0.0</td>\n      <td>3.0</td>\n      <td>t</td>\n      <td>Bolton District</td>\n      <td>...</td>\n      <td>-2.456652</td>\n      <td>Entire home</td>\n      <td>Entire home/apt</td>\n      <td>2</td>\n      <td>1.0</td>\n      <td>1.0</td>\n      <td>[\"Washer\", \"Kitchen\", \"Free parking on premise...</td>\n      <td>$85.00</td>\n      <td>85.0</td>\n      <td>1798</td>\n    </tr>\n    <tr>\n      <th>7147</th>\n      <td>Kozzy 2 Bedroom Flat</td>\n      <td>Kozzy 2-Bedroom Flat Near Piccadilly Station, ...</td>\n      <td>https://a0.muscache.com/pictures/hosting/Hosti...</td>\n      <td>2025-03-17</td>\n      <td>0.0</td>\n      <td>NaN</td>\n      <td>0.0</td>\n      <td>1.0</td>\n      <td>f</td>\n      <td>City Centre</td>\n      <td>...</td>\n      <td>-2.232804</td>\n      <td>Entire rental unit</td>\n      <td>Entire home/apt</td>\n      <td>5</td>\n      <td>2.0</td>\n      <td>2.0</td>\n      <td>[\"Shampoo\", \"Iron\", \"Carbon monoxide alarm\", \"...</td>\n      <td>$166.00</td>\n      <td>166.0</td>\n      <td>79</td>\n    </tr>\n    <tr>\n      <th>7148</th>\n      <td>10%OFF|Month Deal|Contractor|Parking|WiFi|Sleep6</td>\n      <td>🏳 𝐇𝐨𝐬𝐭 𝐀 𝐇𝐨𝐦𝐞 Short Lets &amp; Serviced Accommodat...</td>\n      <td>https://a0.muscache.com/pictures/hosting/Hosti...</td>\n      <td>2023-12-18</td>\n      <td>2.0</td>\n      <td>97%</td>\n      <td>0.0</td>\n      <td>7.0</td>\n      <td>t</td>\n      <td>Ancoats and Clayton</td>\n      <td>...</td>\n      <td>-2.180201</td>\n      <td>Entire home</td>\n      <td>Entire home/apt</td>\n      <td>6</td>\n      <td>1.0</td>\n      <td>3.0</td>\n      <td>[\"Washer\", \"First aid kit\", \"Kitchen\", \"TV\", \"...</td>\n      <td>$122.00</td>\n      <td>122.0</td>\n      <td>534</td>\n    </tr>\n    <tr>\n      <th>7149</th>\n      <td>Long Stays - Free Parking - Media City Apartment</td>\n      <td>Located directly in Media City, Salford Quays,...</td>\n      <td>https://a0.muscache.com/pictures/hosting/Hosti...</td>\n      <td>2023-06-21</td>\n      <td>2.0</td>\n      <td>99%</td>\n      <td>0.0</td>\n      <td>75.0</td>\n      <td>t</td>\n      <td>Salford District</td>\n      <td>...</td>\n      <td>-2.281962</td>\n      <td>Entire rental unit</td>\n      <td>Entire home/apt</td>\n      <td>6</td>\n      <td>2.0</td>\n      <td>2.0</td>\n      <td>[\"Shampoo\", \"Iron\", \"Free parking on premises\"...</td>\n      <td>$140.00</td>\n      <td>140.0</td>\n      <td>714</td>\n    </tr>\n    <tr>\n      <th>7150</th>\n      <td>Long Stays - Driveway - Games Room - Sleeps 9</td>\n      <td>Welcome to our spacious and inviting 4-bedroom...</td>\n      <td>https://a0.muscache.com/pictures/miso/Hosting-...</td>\n      <td>2023-06-21</td>\n      <td>2.0</td>\n      <td>99%</td>\n      <td>0.0</td>\n      <td>75.0</td>\n      <td>t</td>\n      <td>Salford District</td>\n      <td>...</td>\n      <td>-2.282497</td>\n      <td>Entire home</td>\n      <td>Entire home/apt</td>\n      <td>9</td>\n      <td>2.5</td>\n      <td>4.0</td>\n      <td>[\"Pool table\", \"Shampoo\", \"Iron\", \"Free parkin...</td>\n      <td>$179.00</td>\n      <td>179.0</td>\n      <td>714</td>\n    </tr>\n  </tbody>\n</table>\n<p>7149 rows × 22 columns</p>\n</div>"
          },
          "metadata": {}
        }
      ],
      "execution_count": 205
    },
    {
      "id": "c8a79df8-5934-458b-92f5-0e06de838414",
      "cell_type": "code",
      "source": "",
      "metadata": {
        "trusted": true
      },
      "outputs": [],
      "execution_count": null
    }
  ]
}